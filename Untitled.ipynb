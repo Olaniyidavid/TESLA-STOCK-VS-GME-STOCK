{
 "cells": [
  {
   "cell_type": "code",
   "execution_count": 4,
   "id": "e03df04f",
   "metadata": {},
   "outputs": [],
   "source": [
    "import yfinance as yf\n",
    "import pandas as pd\n",
    "import requests\n",
    "from bs4 import BeautifulSoup\n",
    "import plotly.graph_objects as go\n",
    "from plotly.subplots import make_subplots"
   ]
  },
  {
   "cell_type": "code",
   "execution_count": 3,
   "id": "f5a462e0",
   "metadata": {},
   "outputs": [
    {
     "name": "stdout",
     "output_type": "stream",
     "text": [
      "[*********************100%***********************]  1 of 1 completed\n",
      "\n",
      "1 Failed download:\n",
      "- TSLA: No data found for this date range, symbol may be delisted\n"
     ]
    }
   ],
   "source": [
    "tesla_data = yf.download(tickers='TSLA',period='max')"
   ]
  },
  {
   "cell_type": "code",
   "execution_count": null,
   "id": "faacb56a",
   "metadata": {},
   "outputs": [],
   "source": [
    "tesla_data.head()"
   ]
  },
  {
   "cell_type": "code",
   "execution_count": null,
   "id": "d2837b8b",
   "metadata": {},
   "outputs": [],
   "source": [
    "#scraping a table from a website and saving into a df\n",
    "data = requests.get(\"https://cf-courses-data.s3.us.cloud-object-storage.appdomain.cloud/IBMDeveloperSkillsNetwork-PY0220EN-SkillsNetwork/labs/project/revenue.htm\")\n",
    "soup = BeautifulSoup(data.text,\"html.parser\")\n",
    "tesla_revenue = pd.DataFrame(columns=[\"Date\", \"Revenue\"])\n",
    "\n",
    "# First we isolate the body of the table which contains all the information\n",
    "# Then we loop through each row and find all the column values for each row\n",
    "for row in soup.find_all(\"tbody\")[1].find_all('tr'):\n",
    "    col = row.find_all(\"td\")\n",
    "    date = col[0].text\n",
    "    revenue = col[1].text    \n",
    "    # Finally we append the data of each row to the table\n",
    "    tesla_revenue = tesla_revenue.append({\"Date\":date, \"Revenue\":revenue}, ignore_index=True)"
   ]
  },
  {
   "cell_type": "code",
   "execution_count": null,
   "id": "10bd3442",
   "metadata": {},
   "outputs": [],
   "source": [
    "#remove dollar sign and comma\n",
    "tesla_revenue[\"Revenue\"] = tesla_revenue['Revenue'].str.replace(',|\\$',\"\")"
   ]
  },
  {
   "cell_type": "code",
   "execution_count": null,
   "id": "6241d35f",
   "metadata": {},
   "outputs": [],
   "source": [
    "tesla_revenue.dropna(inplace=True)\n",
    "\n",
    "tesla_revenue = tesla_revenue[tesla_revenue['Revenue'] != \"\"]"
   ]
  },
  {
   "cell_type": "code",
   "execution_count": null,
   "id": "0cbd1e26",
   "metadata": {},
   "outputs": [],
   "source": [
    "#GME STOCK DATA\n",
    "gme_data = yf.download(tickers='GME',period = 'max')"
   ]
  },
  {
   "cell_type": "code",
   "execution_count": null,
   "id": "3928511e",
   "metadata": {},
   "outputs": [],
   "source": [
    "gme_data.head()"
   ]
  },
  {
   "cell_type": "code",
   "execution_count": null,
   "id": "28b30e1e",
   "metadata": {},
   "outputs": [],
   "source": [
    "htmldata = requests.get('https://cf-courses-data.s3.us.cloud-object-storage.appdomain.cloud/IBMDeveloperSkillsNetwork-PY0220EN-SkillsNetwork/labs/project/stock.html')\n",
    "soup = BeautifulSoup(htmldata.text,'html.parser')\n",
    "gme_revenue=pd.DataFrame(columns=['Date','Revenue'])\n",
    "\n",
    "for row in soup.find_all('tbody')[1].find_all('tr'):\n",
    "    col = row.find_all('td')\n",
    "    date1 = col[0].text\n",
    "    rev = col[1].text\n",
    "    gme_revenue = gme_revenue.append({\"Date\":date, \"Revenue\":revenue}, ignore_index=True)"
   ]
  },
  {
   "cell_type": "code",
   "execution_count": null,
   "id": "0c0aa388",
   "metadata": {},
   "outputs": [],
   "source": [
    "gme_revenue[\"Revenue\"] = gme_revenue[\"Revenue\"].str.replace(',|\\$',\"\")"
   ]
  },
  {
   "cell_type": "code",
   "execution_count": null,
   "id": "d75e53ad",
   "metadata": {},
   "outputs": [],
   "source": [
    "gme_revenue.dropna(inplace=True)\n",
    "\n",
    "gme_revenue = gme_revenue[gme_revenue['Revenue'] != \"\"]"
   ]
  },
  {
   "cell_type": "code",
   "execution_count": null,
   "id": "8aaa4269",
   "metadata": {},
   "outputs": [],
   "source": [
    "#PLOTTING THE TESLA DATA ON A GRAPH\n",
    "import plotly.graph_objects as go\n",
    "\n",
    "fig = go.Figure(data=go.Scatter(x=tesla_data.index,y=tesla_data['Close'], mode='lines'))\n",
    "fig.show()\n"
   ]
  },
  {
   "cell_type": "code",
   "execution_count": null,
   "id": "1dc1cecf",
   "metadata": {},
   "outputs": [],
   "source": [
    "#ADD REVENUE SUBPLOT TO TESLA GRAPH\n",
    "from plotly.subplots import make_subplots\n",
    "\n",
    "fig2 = make_subplots(specs=[[{\"secondary_y\": True}]])\n",
    "fig2.add_trace(go.Scatter(x=tesla_data.index,y=tesla_data['Close'],name='Price'),secondary_y=False)\n",
    "fig2.add_trace(go.Bar(x=tesla_data.index,y=tesla_data['Volume'],name='Volume'),secondary_y=True)\n",
    "fig2.show()"
   ]
  },
  {
   "cell_type": "code",
   "execution_count": null,
   "id": "529fa79b",
   "metadata": {},
   "outputs": [],
   "source": [
    "#SPACE THE REVENUE FROM THE STOCK PRICE\n",
    "fig2.update_yaxes(range=[0,7000000000],secondary_y=True)\n",
    "fig2.update_yaxes(visible=False, secondary_y=True)\n",
    "fig2.show()"
   ]
  },
  {
   "cell_type": "code",
   "execution_count": null,
   "id": "976501e1",
   "metadata": {},
   "outputs": [],
   "source": [
    "gmefig = go.Figure(data=go.Scatter(x=gme_data.index,y=gme_data['Close'], mode='lines'))\n",
    "gmefig.show()\n"
   ]
  },
  {
   "cell_type": "code",
   "execution_count": null,
   "id": "4c425960",
   "metadata": {},
   "outputs": [],
   "source": [
    "gmefig2 = make_subplots(specs=[[{\"secondary_y\": True}]])\n",
    "gmefig2.add_trace(go.Scatter(x=gme_data.index,y=gme_data['Close'],name='Price'),secondary_y=False)\n",
    "gmefig2.add_trace(go.Bar(x=gme_data.index,y=gme_data['Volume'],name='Volume'),secondary_y=True)\n",
    "gmefig2.show()"
   ]
  },
  {
   "cell_type": "code",
   "execution_count": null,
   "id": "b00295da",
   "metadata": {},
   "outputs": [],
   "source": [
    "#SPACE THE REVENUE FROM THE STOCK PRICE\n",
    "gmefig2.update_yaxes(range=[0,7000000000],secondary_y=True)\n",
    "gmefig2.update_yaxes(visible=False, secondary_y=True)\n",
    "gmefig2.show()"
   ]
  },
  {
   "cell_type": "code",
   "execution_count": null,
   "id": "58b8fe88",
   "metadata": {},
   "outputs": [],
   "source": []
  }
 ],
 "metadata": {
  "kernelspec": {
   "display_name": "Python 3",
   "language": "python",
   "name": "python3"
  },
  "language_info": {
   "codemirror_mode": {
    "name": "ipython",
    "version": 3
   },
   "file_extension": ".py",
   "mimetype": "text/x-python",
   "name": "python",
   "nbconvert_exporter": "python",
   "pygments_lexer": "ipython3",
   "version": "3.8.5"
  }
 },
 "nbformat": 4,
 "nbformat_minor": 5
}
